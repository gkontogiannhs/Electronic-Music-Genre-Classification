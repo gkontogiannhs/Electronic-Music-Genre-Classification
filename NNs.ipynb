{
 "cells": [
  {
   "cell_type": "code",
   "execution_count": 1,
   "id": "06462266",
   "metadata": {},
   "outputs": [],
   "source": [
    "import os\n",
    "import IPython.display as ipd\n",
    "import numpy as np\n",
    "import random\n",
    "import librosa\n",
    "import librosa.display\n",
    "import matplotlib.pyplot as plt\n",
    "# \n",
    "from pathlib import Path\n",
    "import pandas as pd\n",
    "\n",
    "SEED = 42\n",
    "np.random.seed(SEED)\n",
    "random.seed(SEED)"
   ]
  },
  {
   "cell_type": "code",
   "execution_count": 2,
   "id": "aba8a439",
   "metadata": {},
   "outputs": [],
   "source": [
    "# Path to dataset: structured as /dataset/{genre}/*.wav\n",
    "DATASET_PATH = Path(\"data/ELECTRONIC_MUSIC_V2\")\n",
    "GENRES = [\"Techno\", \"House\"]"
   ]
  },
  {
   "cell_type": "code",
   "execution_count": 3,
   "id": "2a6baae0",
   "metadata": {},
   "outputs": [
    {
     "data": {
      "text/html": [
       "<div>\n",
       "<style scoped>\n",
       "    .dataframe tbody tr th:only-of-type {\n",
       "        vertical-align: middle;\n",
       "    }\n",
       "\n",
       "    .dataframe tbody tr th {\n",
       "        vertical-align: top;\n",
       "    }\n",
       "\n",
       "    .dataframe thead th {\n",
       "        text-align: right;\n",
       "    }\n",
       "</style>\n",
       "<table border=\"1\" class=\"dataframe\">\n",
       "  <thead>\n",
       "    <tr style=\"text-align: right;\">\n",
       "      <th></th>\n",
       "      <th>filepath</th>\n",
       "      <th>genre</th>\n",
       "      <th>duration_sec</th>\n",
       "      <th>sampling_rate</th>\n",
       "    </tr>\n",
       "  </thead>\n",
       "  <tbody>\n",
       "    <tr>\n",
       "      <th>0</th>\n",
       "      <td>data/ELECTRONIC_MUSIC_V2/Techno/Electronic mus...</td>\n",
       "      <td>Techno</td>\n",
       "      <td>10.0</td>\n",
       "      <td>16000</td>\n",
       "    </tr>\n",
       "    <tr>\n",
       "      <th>1</th>\n",
       "      <td>data/ELECTRONIC_MUSIC_V2/Techno/Music, Techno_...</td>\n",
       "      <td>Techno</td>\n",
       "      <td>10.0</td>\n",
       "      <td>16000</td>\n",
       "    </tr>\n",
       "    <tr>\n",
       "      <th>2</th>\n",
       "      <td>data/ELECTRONIC_MUSIC_V2/Techno/Music, Techno,...</td>\n",
       "      <td>Techno</td>\n",
       "      <td>10.0</td>\n",
       "      <td>16000</td>\n",
       "    </tr>\n",
       "    <tr>\n",
       "      <th>3</th>\n",
       "      <td>data/ELECTRONIC_MUSIC_V2/Techno/Electronic mus...</td>\n",
       "      <td>Techno</td>\n",
       "      <td>10.0</td>\n",
       "      <td>16000</td>\n",
       "    </tr>\n",
       "    <tr>\n",
       "      <th>4</th>\n",
       "      <td>data/ELECTRONIC_MUSIC_V2/Techno/Music, Techno_...</td>\n",
       "      <td>Techno</td>\n",
       "      <td>10.0</td>\n",
       "      <td>16000</td>\n",
       "    </tr>\n",
       "  </tbody>\n",
       "</table>\n",
       "</div>"
      ],
      "text/plain": [
       "                                            filepath   genre  duration_sec  \\\n",
       "0  data/ELECTRONIC_MUSIC_V2/Techno/Electronic mus...  Techno          10.0   \n",
       "1  data/ELECTRONIC_MUSIC_V2/Techno/Music, Techno_...  Techno          10.0   \n",
       "2  data/ELECTRONIC_MUSIC_V2/Techno/Music, Techno,...  Techno          10.0   \n",
       "3  data/ELECTRONIC_MUSIC_V2/Techno/Electronic mus...  Techno          10.0   \n",
       "4  data/ELECTRONIC_MUSIC_V2/Techno/Music, Techno_...  Techno          10.0   \n",
       "\n",
       "   sampling_rate  \n",
       "0          16000  \n",
       "1          16000  \n",
       "2          16000  \n",
       "3          16000  \n",
       "4          16000  "
      ]
     },
     "execution_count": 3,
     "metadata": {},
     "output_type": "execute_result"
    }
   ],
   "source": [
    "# Storage\n",
    "filepaths = []\n",
    "durations = []\n",
    "sr_list = []\n",
    "genre_list = []\n",
    "\n",
    "# Basic Stats: Duration, Sampling Rate\n",
    "for genre in GENRES:\n",
    "    genre_path = DATASET_PATH / genre\n",
    "    for audio_file in genre_path.glob(\"*.wav\"):\n",
    "        try:\n",
    "            y, sr = librosa.load(audio_file, sr=None)\n",
    "            duration = librosa.get_duration(y=y, sr=sr)\n",
    "            filepaths.append(audio_file)\n",
    "            durations.append(duration)\n",
    "            sr_list.append(sr)\n",
    "            genre_list.append(genre)\n",
    "        except Exception as e:\n",
    "            print(f\"Failed to load {audio_file}: {e}\")\n",
    "\n",
    "# Create DataFrame\n",
    "electronic_tracks_df = pd.DataFrame({\n",
    "    \"filepath\": filepaths,\n",
    "    \"genre\": genre_list,\n",
    "    \"duration_sec\": durations,\n",
    "    \"sampling_rate\": sr_list\n",
    "})\n",
    "\n",
    "electronic_tracks_df.head()"
   ]
  },
  {
   "cell_type": "code",
   "execution_count": 4,
   "id": "c93b3974",
   "metadata": {},
   "outputs": [
    {
     "data": {
      "text/plain": [
       "genre   duration_sec  sampling_rate\n",
       "House   10.0          16000            39\n",
       "Techno  10.0          16000            29\n",
       "Name: count, dtype: int64"
      ]
     },
     "execution_count": 4,
     "metadata": {},
     "output_type": "execute_result"
    }
   ],
   "source": [
    "electronic_tracks_df.iloc[:, 1:].value_counts()"
   ]
  },
  {
   "cell_type": "code",
   "execution_count": 5,
   "id": "b7170406",
   "metadata": {},
   "outputs": [
    {
     "data": {
      "text/plain": [
       "(4096, 1024)"
      ]
     },
     "execution_count": 5,
     "metadata": {},
     "output_type": "execute_result"
    }
   ],
   "source": [
    "FRAME_LENGTH = 4096\n",
    "HOP_LENGTH = FRAME_LENGTH // 4\n",
    "\n",
    "FRAME_LENGTH, HOP_LENGTH"
   ]
  },
  {
   "cell_type": "code",
   "execution_count": 6,
   "id": "25f53b4b",
   "metadata": {},
   "outputs": [],
   "source": [
    "from utils import extract_features_v2"
   ]
  },
  {
   "cell_type": "code",
   "execution_count": 22,
   "id": "1d30f7a8",
   "metadata": {},
   "outputs": [],
   "source": [
    "feature_flags = {\n",
    "    \"zcr\": False,\n",
    "    \"centroid\": False,\n",
    "    \"onset_strength\": False,\n",
    "    \"mfcc\": True,\n",
    "    \"chroma\": False,\n",
    "    \"spectral_bandwidth\": False,\n",
    "    \"spectral_rolloff\": False,\n",
    "    \"rms\": False,\n",
    "    \"tempogram\": False,\n",
    "    \"spectral_contrast\": False,\n",
    "    \"tonnetz\": False,\n",
    "    \"mel_spectrogram\": False,\n",
    "    \"tempogram\": False\n",
    "}"
   ]
  },
  {
   "cell_type": "code",
   "execution_count": 23,
   "id": "55ed8cc4",
   "metadata": {},
   "outputs": [
    {
     "data": {
      "text/plain": [
       "((68, 1, 157, 13), (68,))"
      ]
     },
     "execution_count": 23,
     "metadata": {},
     "output_type": "execute_result"
    }
   ],
   "source": [
    "X = []\n",
    "y = []\n",
    "\n",
    "for fp, label in zip(electronic_tracks_df[\"filepath\"], electronic_tracks_df[\"genre\"]):\n",
    "    try:\n",
    "        audio, sr = librosa.load(fp, sr=None)\n",
    "        _x = extract_features_v2(filepath=fp, sr=sr, n_fft=FRAME_LENGTH, hop_length=HOP_LENGTH, segment_duration=10, selected_features=feature_flags)\n",
    "        \n",
    "        X.append(_x)\n",
    "        y.append(label)\n",
    "        # y.append(label)\n",
    "    except Exception as e:\n",
    "        print(f\"Failed on {fp}: {e}\")\n",
    "\n",
    "X_segments = np.stack(X)  # shape: (samples, time_steps, features)\n",
    "y_segments = np.array(y)  # shape: (samples,)\n",
    "\n",
    "X_segments.shape, y_segments.shape"
   ]
  },
  {
   "cell_type": "markdown",
   "id": "da2e0c2a",
   "metadata": {},
   "source": [
    "### Treat each segment as an input instance"
   ]
  },
  {
   "cell_type": "code",
   "execution_count": 24,
   "id": "15c651de",
   "metadata": {},
   "outputs": [
    {
     "data": {
      "text/plain": [
       "((68, 157, 13), dtype('float32'))"
      ]
     },
     "execution_count": 24,
     "metadata": {},
     "output_type": "execute_result"
    }
   ],
   "source": [
    "X = X_segments.reshape(-1, X_segments.shape[2], X_segments.shape[3]).astype(np.float32)\n",
    "X.shape, X.dtype"
   ]
  },
  {
   "cell_type": "markdown",
   "id": "bb5e5ad1",
   "metadata": {},
   "source": [
    "### Encode Labels"
   ]
  },
  {
   "cell_type": "code",
   "execution_count": 25,
   "id": "59f6f086",
   "metadata": {},
   "outputs": [],
   "source": [
    "from sklearn.preprocessing import LabelEncoder\n",
    "\n",
    "le = LabelEncoder()\n",
    "y_encoded = le.fit_transform(y_segments)  # 'house', 'techno', 'trance' → 0, 1, 2"
   ]
  },
  {
   "cell_type": "code",
   "execution_count": 26,
   "id": "6304cb57",
   "metadata": {},
   "outputs": [],
   "source": [
    "from sklearn.model_selection import train_test_split\n",
    "\n",
    "X_train, X_test, y_train, y_test = train_test_split(\n",
    "    X, y_encoded, stratify=y_encoded, test_size=0.2, random_state=SEED\n",
    ")"
   ]
  },
  {
   "cell_type": "code",
   "execution_count": 27,
   "id": "20bd336d",
   "metadata": {},
   "outputs": [],
   "source": [
    "from sklearn.preprocessing import StandardScaler\n",
    "\n",
    "def scale_3d_features(X, scaler=None):\n",
    "    samples, frames, features = X.shape\n",
    "    \n",
    "    # Reshape to 2D: combine samples and frames\n",
    "    X_reshaped = X.reshape(-1, features)  # (samples*frames, features)\n",
    "\n",
    "    if scaler is None:\n",
    "        scaler = StandardScaler()\n",
    "        scaler.fit(X_reshaped)\n",
    "    \n",
    "    X_scaled = scaler.transform(X_reshaped)\n",
    "    \n",
    "    # Reshape back to 3D\n",
    "    X_scaled = X_scaled.reshape(samples, frames, features)\n",
    "    return X_scaled, scaler"
   ]
  },
  {
   "cell_type": "code",
   "execution_count": 28,
   "id": "5f47dbf9",
   "metadata": {},
   "outputs": [],
   "source": [
    "X_train_scaled, fitted_scaler = scale_3d_features(X_train)\n",
    "X_test_scaled, _ = scale_3d_features(X_test, fitted_scaler)"
   ]
  },
  {
   "cell_type": "code",
   "execution_count": 29,
   "id": "ff474104",
   "metadata": {},
   "outputs": [],
   "source": [
    "from tensorflow.keras import layers, models\n",
    "\n",
    "def build_temporal_model(input_shape, num_classes):\n",
    "    \"\"\"\n",
    "    input_shape: (frames, features)\n",
    "    num_classes: number of output classes\n",
    "    \"\"\"\n",
    "    inputs = layers.Input(shape=input_shape)  # (frames, features)\n",
    "\n",
    "    # Add Conv1D layers to learn local temporal features across time frames\n",
    "    x = layers.Conv1D(64, kernel_size=3, activation='relu', padding='same')(inputs)\n",
    "    x = layers.BatchNormalization()(x)\n",
    "    x = layers.MaxPooling1D(pool_size=2)(x)\n",
    "\n",
    "    x = layers.Conv1D(128, kernel_size=3, activation='relu', padding='same')(x)\n",
    "    x = layers.BatchNormalization()(x)\n",
    "    x = layers.MaxPooling1D(pool_size=2)(x)\n",
    "\n",
    "    # Use a Bi-LSTM to capture sequential dependencies\n",
    "    x = layers.Bidirectional(layers.LSTM(64, return_sequences=False))(x)\n",
    "    x = layers.Dropout(0.3)(x)\n",
    "\n",
    "    x = layers.Dense(64, activation='relu')(x)\n",
    "    x = layers.Dropout(0.3)(x)\n",
    "\n",
    "    outputs = layers.Dense(num_classes, activation='softmax')(x)\n",
    "\n",
    "    model = models.Model(inputs=inputs, outputs=outputs)\n",
    "    return model"
   ]
  },
  {
   "cell_type": "code",
   "execution_count": 36,
   "id": "858ec65e",
   "metadata": {},
   "outputs": [
    {
     "name": "stdout",
     "output_type": "stream",
     "text": [
      "Epoch 1/7\n",
      "\u001b[1m6/6\u001b[0m \u001b[32m━━━━━━━━━━━━━━━━━━━━\u001b[0m\u001b[37m\u001b[0m \u001b[1m2s\u001b[0m 120ms/step - accuracy: 0.4276 - loss: 0.8114 - val_accuracy: 0.6364 - val_loss: 0.6701\n",
      "Epoch 2/7\n",
      "\u001b[1m6/6\u001b[0m \u001b[32m━━━━━━━━━━━━━━━━━━━━\u001b[0m\u001b[37m\u001b[0m \u001b[1m0s\u001b[0m 40ms/step - accuracy: 0.7806 - loss: 0.5365 - val_accuracy: 0.6364 - val_loss: 0.6442\n",
      "Epoch 3/7\n",
      "\u001b[1m6/6\u001b[0m \u001b[32m━━━━━━━━━━━━━━━━━━━━\u001b[0m\u001b[37m\u001b[0m \u001b[1m0s\u001b[0m 39ms/step - accuracy: 0.7913 - loss: 0.4291 - val_accuracy: 0.6364 - val_loss: 0.6511\n",
      "Epoch 4/7\n",
      "\u001b[1m6/6\u001b[0m \u001b[32m━━━━━━━━━━━━━━━━━━━━\u001b[0m\u001b[37m\u001b[0m \u001b[1m0s\u001b[0m 37ms/step - accuracy: 0.7082 - loss: 0.6086 - val_accuracy: 0.7273 - val_loss: 0.6403\n",
      "Epoch 5/7\n",
      "\u001b[1m6/6\u001b[0m \u001b[32m━━━━━━━━━━━━━━━━━━━━\u001b[0m\u001b[37m\u001b[0m \u001b[1m0s\u001b[0m 37ms/step - accuracy: 0.8834 - loss: 0.3270 - val_accuracy: 0.7273 - val_loss: 0.6184\n",
      "Epoch 6/7\n",
      "\u001b[1m6/6\u001b[0m \u001b[32m━━━━━━━━━━━━━━━━━━━━\u001b[0m\u001b[37m\u001b[0m \u001b[1m0s\u001b[0m 37ms/step - accuracy: 0.8775 - loss: 0.2680 - val_accuracy: 0.7273 - val_loss: 0.5972\n",
      "Epoch 7/7\n",
      "\u001b[1m6/6\u001b[0m \u001b[32m━━━━━━━━━━━━━━━━━━━━\u001b[0m\u001b[37m\u001b[0m \u001b[1m0s\u001b[0m 36ms/step - accuracy: 0.9704 - loss: 0.1785 - val_accuracy: 0.7273 - val_loss: 0.5822\n"
     ]
    }
   ],
   "source": [
    "input_shape = (X_train.shape[1], X_train.shape[2])  # (frames, features)\n",
    "num_classes = len(np.unique(y_train))\n",
    "\n",
    "model = build_temporal_model(input_shape, num_classes)\n",
    "model.compile(\n",
    "    optimizer='adam',\n",
    "    loss='sparse_categorical_crossentropy',\n",
    "    metrics=['accuracy']\n",
    ")\n",
    "\n",
    "history = model.fit(X_train_scaled, y_train, validation_split=0.2, epochs=7, batch_size=8)"
   ]
  },
  {
   "cell_type": "code",
   "execution_count": 37,
   "id": "c369fe30",
   "metadata": {},
   "outputs": [],
   "source": [
    "train_acc_values = history.history[\"accuracy\"]\n",
    "val_acc_values = history.history[\"val_accuracy\"]\n",
    "loss_values = history.history[\"loss\"]"
   ]
  },
  {
   "cell_type": "code",
   "execution_count": 38,
   "id": "703bf042",
   "metadata": {},
   "outputs": [
    {
     "data": {
      "image/png": "[encoded data removed]",
      "text/plain": [
       "<Figure size 640x480 with 1 Axes>"
      ]
     },
     "metadata": {},
     "output_type": "display_data"
    }
   ],
   "source": [
    "plt.plot(np.arange(len(train_acc_values)), train_acc_values)\n",
    "plt.plot(np.arange(len(train_acc_values)), val_acc_values)\n",
    "plt.plot(np.arange(len(train_acc_values)), loss_values)\n",
    "plt.show()"
   ]
  },
  {
   "cell_type": "code",
   "execution_count": 39,
   "id": "70de7aaf",
   "metadata": {},
   "outputs": [],
   "source": [
    "from sklearn.metrics import classification_report, confusion_matrix, ConfusionMatrixDisplay"
   ]
  },
  {
   "cell_type": "code",
   "execution_count": 40,
   "id": "55f04451",
   "metadata": {},
   "outputs": [
    {
     "name": "stdout",
     "output_type": "stream",
     "text": [
      "\u001b[1m1/1\u001b[0m \u001b[32m━━━━━━━━━━━━━━━━━━━━\u001b[0m\u001b[37m\u001b[0m \u001b[1m0s\u001b[0m 168ms/step\n",
      "Classification Report:\n",
      "\n",
      "              precision    recall  f1-score   support\n",
      "\n",
      "           0       0.58      0.88      0.70         8\n",
      "           1       0.50      0.17      0.25         6\n",
      "\n",
      "    accuracy                           0.57        14\n",
      "   macro avg       0.54      0.52      0.47        14\n",
      "weighted avg       0.55      0.57      0.51        14\n",
      "\n"
     ]
    },
    {
     "data": {
      "text/plain": [
       "<sklearn.metrics._plot.confusion_matrix.ConfusionMatrixDisplay at 0x3cdfb9110>"
      ]
     },
     "execution_count": 40,
     "metadata": {},
     "output_type": "execute_result"
    },
    {
     "data": {
      "image/png": "[encoded data removed]",
      "text/plain": [
       "<Figure size 640x480 with 2 Axes>"
      ]
     },
     "metadata": {},
     "output_type": "display_data"
    }
   ],
   "source": [
    "predictions = model.predict(X_test_scaled).argmax(axis=1)\n",
    "\n",
    "# Classification report\n",
    "print(\"Classification Report:\\n\")\n",
    "print(classification_report(y_test, predictions))\n",
    "\n",
    "# Confusion matrix\n",
    "cm = confusion_matrix(y_test, predictions)\n",
    "disp = ConfusionMatrixDisplay(confusion_matrix=cm)\n",
    "disp.plot(cmap=\"Blues\", xticks_rotation=45)"
   ]
  },
  {
   "cell_type": "code",
   "execution_count": 41,
   "id": "e3bda07c",
   "metadata": {},
   "outputs": [],
   "source": [
    "def build_2d_spectrogram_model(input_shape, num_classes):\n",
    "    \"\"\"\n",
    "    input_shape: (time, frequency, channels) \n",
    "    For example, (frames, n_mel_bands, 1)\n",
    "    \"\"\"\n",
    "    inputs = layers.Input(shape=input_shape)  # e.g. (time, freq, 1)\n",
    "\n",
    "    x = layers.Conv2D(32, kernel_size=(3,3), activation='relu', padding='same')(inputs)\n",
    "    x = layers.BatchNormalization()(x)\n",
    "    x = layers.MaxPooling2D(pool_size=(2,2))(x)\n",
    "\n",
    "    x = layers.Conv2D(64, kernel_size=(3,3), activation='relu', padding='same')(x)\n",
    "    x = layers.BatchNormalization()(x)\n",
    "    x = layers.MaxPooling2D(pool_size=(2,2))(x)\n",
    "\n",
    "    x = layers.Conv2D(128, kernel_size=(3,3), activation='relu', padding='same')(x)\n",
    "    x = layers.BatchNormalization()(x)\n",
    "    x = layers.MaxPooling2D(pool_size=(2,2))(x)\n",
    "\n",
    "    x = layers.GlobalAveragePooling2D()(x)\n",
    "    x = layers.Dense(128, activation='relu')(x)\n",
    "    x = layers.Dropout(0.3)(x)\n",
    "\n",
    "    outputs = layers.Dense(num_classes, activation='softmax')(x)\n",
    "\n",
    "    model = models.Model(inputs=inputs, outputs=outputs)\n",
    "    return model"
   ]
  },
  {
   "cell_type": "code",
   "execution_count": 42,
   "id": "f8f3213e",
   "metadata": {},
   "outputs": [
    {
     "name": "stdout",
     "output_type": "stream",
     "text": [
      "Epoch 1/15\n",
      "\u001b[1m6/6\u001b[0m \u001b[32m━━━━━━━━━━━━━━━━━━━━\u001b[0m\u001b[37m\u001b[0m \u001b[1m4s\u001b[0m 333ms/step - accuracy: 0.5603 - loss: 1.3868 - val_accuracy: 0.6364 - val_loss: 0.6528\n",
      "Epoch 2/15\n",
      "\u001b[1m6/6\u001b[0m \u001b[32m━━━━━━━━━━━━━━━━━━━━\u001b[0m\u001b[37m\u001b[0m \u001b[1m0s\u001b[0m 27ms/step - accuracy: 0.8215 - loss: 0.6097 - val_accuracy: 0.6364 - val_loss: 0.6711\n",
      "Epoch 3/15\n",
      "\u001b[1m6/6\u001b[0m \u001b[32m━━━━━━━━━━━━━━━━━━━━\u001b[0m\u001b[37m\u001b[0m \u001b[1m0s\u001b[0m 25ms/step - accuracy: 0.5895 - loss: 0.8883 - val_accuracy: 0.6364 - val_loss: 0.6413\n",
      "Epoch 4/15\n",
      "\u001b[1m6/6\u001b[0m \u001b[32m━━━━━━━━━━━━━━━━━━━━\u001b[0m\u001b[37m\u001b[0m \u001b[1m0s\u001b[0m 24ms/step - accuracy: 0.6216 - loss: 0.9158 - val_accuracy: 0.6364 - val_loss: 0.6436\n",
      "Epoch 5/15\n",
      "\u001b[1m6/6\u001b[0m \u001b[32m━━━━━━━━━━━━━━━━━━━━\u001b[0m\u001b[37m\u001b[0m \u001b[1m0s\u001b[0m 24ms/step - accuracy: 0.8409 - loss: 0.3459 - val_accuracy: 0.6364 - val_loss: 0.6489\n",
      "Epoch 6/15\n",
      "\u001b[1m6/6\u001b[0m \u001b[32m━━━━━━━━━━━━━━━━━━━━\u001b[0m\u001b[37m\u001b[0m \u001b[1m0s\u001b[0m 24ms/step - accuracy: 0.7282 - loss: 0.6451 - val_accuracy: 0.7273 - val_loss: 0.6635\n",
      "Epoch 7/15\n",
      "\u001b[1m6/6\u001b[0m \u001b[32m━━━━━━━━━━━━━━━━━━━━\u001b[0m\u001b[37m\u001b[0m \u001b[1m0s\u001b[0m 24ms/step - accuracy: 0.8199 - loss: 0.3688 - val_accuracy: 0.5455 - val_loss: 0.6891\n",
      "Epoch 8/15\n",
      "\u001b[1m6/6\u001b[0m \u001b[32m━━━━━━━━━━━━━━━━━━━━\u001b[0m\u001b[37m\u001b[0m \u001b[1m0s\u001b[0m 24ms/step - accuracy: 0.8035 - loss: 0.3605 - val_accuracy: 0.2727 - val_loss: 0.7176\n",
      "Epoch 9/15\n",
      "\u001b[1m6/6\u001b[0m \u001b[32m━━━━━━━━━━━━━━━━━━━━\u001b[0m\u001b[37m\u001b[0m \u001b[1m0s\u001b[0m 23ms/step - accuracy: 0.8569 - loss: 0.2639 - val_accuracy: 0.6364 - val_loss: 0.6961\n",
      "Epoch 10/15\n",
      "\u001b[1m6/6\u001b[0m \u001b[32m━━━━━━━━━━━━━━━━━━━━\u001b[0m\u001b[37m\u001b[0m \u001b[1m0s\u001b[0m 24ms/step - accuracy: 0.9285 - loss: 0.1796 - val_accuracy: 0.4545 - val_loss: 0.6919\n",
      "Epoch 11/15\n",
      "\u001b[1m6/6\u001b[0m \u001b[32m━━━━━━━━━━━━━━━━━━━━\u001b[0m\u001b[37m\u001b[0m \u001b[1m0s\u001b[0m 24ms/step - accuracy: 0.8190 - loss: 0.3373 - val_accuracy: 0.3636 - val_loss: 0.7080\n",
      "Epoch 12/15\n",
      "\u001b[1m6/6\u001b[0m \u001b[32m━━━━━━━━━━━━━━━━━━━━\u001b[0m\u001b[37m\u001b[0m \u001b[1m0s\u001b[0m 24ms/step - accuracy: 0.8390 - loss: 0.3816 - val_accuracy: 0.5455 - val_loss: 0.6807\n",
      "Epoch 13/15\n",
      "\u001b[1m6/6\u001b[0m \u001b[32m━━━━━━━━━━━━━━━━━━━━\u001b[0m\u001b[37m\u001b[0m \u001b[1m0s\u001b[0m 26ms/step - accuracy: 0.9138 - loss: 0.2578 - val_accuracy: 0.3636 - val_loss: 0.7194\n",
      "Epoch 14/15\n",
      "\u001b[1m6/6\u001b[0m \u001b[32m━━━━━━━━━━━━━━━━━━━━\u001b[0m\u001b[37m\u001b[0m \u001b[1m0s\u001b[0m 24ms/step - accuracy: 0.9217 - loss: 0.1721 - val_accuracy: 0.3636 - val_loss: 0.7663\n",
      "Epoch 15/15\n",
      "\u001b[1m6/6\u001b[0m \u001b[32m━━━━━━━━━━━━━━━━━━━━\u001b[0m\u001b[37m\u001b[0m \u001b[1m0s\u001b[0m 24ms/step - accuracy: 0.9253 - loss: 0.1648 - val_accuracy: 0.3636 - val_loss: 0.7377\n"
     ]
    }
   ],
   "source": [
    "model = build_2d_spectrogram_model((input_shape[0], input_shape[1], 1), num_classes)\n",
    "model.compile(\n",
    "    optimizer='adam',\n",
    "    loss='sparse_categorical_crossentropy',\n",
    "    metrics=['accuracy']\n",
    ")\n",
    "\n",
    "history = model.fit(np.expand_dims(X_train_scaled, axis=-1), y_train, validation_split=0.2, epochs=15, batch_size=8)"
   ]
  },
  {
   "cell_type": "code",
   "execution_count": 43,
   "id": "18c1b5f9",
   "metadata": {},
   "outputs": [
    {
     "name": "stdout",
     "output_type": "stream",
     "text": [
      "\u001b[1m1/1\u001b[0m \u001b[32m━━━━━━━━━━━━━━━━━━━━\u001b[0m\u001b[37m\u001b[0m \u001b[1m0s\u001b[0m 193ms/step\n",
      "Classification Report:\n",
      "\n",
      "              precision    recall  f1-score   support\n",
      "\n",
      "           0       0.75      0.38      0.50         8\n",
      "           1       0.50      0.83      0.62         6\n",
      "\n",
      "    accuracy                           0.57        14\n",
      "   macro avg       0.62      0.60      0.56        14\n",
      "weighted avg       0.64      0.57      0.55        14\n",
      "\n"
     ]
    },
    {
     "data": {
      "text/plain": [
       "<sklearn.metrics._plot.confusion_matrix.ConfusionMatrixDisplay at 0x3ce9c7a90>"
      ]
     },
     "execution_count": 43,
     "metadata": {},
     "output_type": "execute_result"
    },
    {
     "data": {
      "image/png": "[encoded data removed]",
      "text/plain": [
       "<Figure size 640x480 with 2 Axes>"
      ]
     },
     "metadata": {},
     "output_type": "display_data"
    }
   ],
   "source": [
    "predictions = model.predict(X_test_scaled).argmax(axis=1)\n",
    "\n",
    "# Classification report\n",
    "print(\"Classification Report:\\n\")\n",
    "print(classification_report(y_test, predictions))\n",
    "\n",
    "# Confusion matrix\n",
    "cm = confusion_matrix(y_test, predictions)\n",
    "disp = ConfusionMatrixDisplay(confusion_matrix=cm)\n",
    "disp.plot(cmap=\"Blues\", xticks_rotation=45)"
   ]
  },
  {
   "cell_type": "code",
   "execution_count": null,
   "id": "a33a79ca",
   "metadata": {},
   "outputs": [],
   "source": []
  }
 ],
 "metadata": {
  "kernelspec": {
   "display_name": "dsp",
   "language": "python",
   "name": "python3"
  },
  "language_info": {
   "codemirror_mode": {
    "name": "ipython",
    "version": 3
   },
   "file_extension": ".py",
   "mimetype": "text/x-python",
   "name": "python",
   "nbconvert_exporter": "python",
   "pygments_lexer": "ipython3",
   "version": "3.11.11"
  }
 },
 "nbformat": 4,
 "nbformat_minor": 5
}
